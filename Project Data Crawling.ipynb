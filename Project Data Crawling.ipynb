{
 "cells": [
  {
   "cell_type": "code",
   "execution_count": 62,
   "id": "ecdd71c4",
   "metadata": {},
   "outputs": [],
   "source": [
    "from bs4 import BeautifulSoup"
   ]
  },
  {
   "cell_type": "code",
   "execution_count": 63,
   "id": "13296578",
   "metadata": {},
   "outputs": [],
   "source": [
    "import requests"
   ]
  },
  {
   "cell_type": "code",
   "execution_count": 64,
   "id": "108bd544",
   "metadata": {},
   "outputs": [],
   "source": [
    "import pandas as pd"
   ]
  },
  {
   "cell_type": "code",
   "execution_count": 65,
   "id": "9083ba36",
   "metadata": {},
   "outputs": [],
   "source": [
    "page = requests.get('https://www.grobmart.com/Buku/Buku-Novel-dan-Sastra/buku-romance?page=')"
   ]
  },
  {
   "cell_type": "code",
   "execution_count": 66,
   "id": "10106dd7",
   "metadata": {},
   "outputs": [],
   "source": [
    "soup = BeautifulSoup(page.content, 'html.parser')"
   ]
  },
  {
   "cell_type": "code",
   "execution_count": 68,
   "id": "b3384e60",
   "metadata": {},
   "outputs": [],
   "source": [
    "data_judul = []\n",
    "data_harga = []\n",
    "data_penulis = []\n",
    "data_deskripsi = []\n",
    "\n",
    "for index in range(1,11):\n",
    "    page = requests.get(f'https://www.grobmart.com/Buku/Buku-Novel-dan-Sastra/buku-romance?page={index}')\n",
    "    soup = BeautifulSoup(page.content, 'html.parser')\n",
    "    \n",
    "    list_judul = soup.find_all(\"div\", class_=\"name\")\n",
    "    for judul in list_judul:\n",
    "        data_judul.append(judul.text)\n",
    "    \n",
    "    list_price = soup.find_all(\"span\", class_=\"price-new\")\n",
    "    for harga in list_price:\n",
    "        data_harga.append(harga.text)\n",
    "    \n",
    "    list_deskripsi = soup.find_all(\"div\", class_=\"description\")\n",
    "    for deskripsi in list_deskripsi:\n",
    "        data_deskripsi.append(deskripsi.text)\n",
    "    \n",
    "    list_penulis = soup.find_all(\"span\", class_=\"stat-1\")\n",
    "    for penulis in list_penulis:\n",
    "        data_penulis.append(penulis.text.strip(\"Author:\"))"
   ]
  },
  {
   "cell_type": "code",
   "execution_count": 69,
   "id": "742e333c",
   "metadata": {},
   "outputs": [],
   "source": [
    "data = {\n",
    "    'Judul':data_judul,\n",
    "    'Harga':data_harga,\n",
    "    'Penulis': data_penulis,\n",
    "    'Deskripsi':data_deskripsi\n",
    "}"
   ]
  },
  {
   "cell_type": "code",
   "execution_count": 70,
   "id": "f2b3f83c",
   "metadata": {},
   "outputs": [
    {
     "data": {
      "text/html": [
       "<div>\n",
       "<style scoped>\n",
       "    .dataframe tbody tr th:only-of-type {\n",
       "        vertical-align: middle;\n",
       "    }\n",
       "\n",
       "    .dataframe tbody tr th {\n",
       "        vertical-align: top;\n",
       "    }\n",
       "\n",
       "    .dataframe thead th {\n",
       "        text-align: right;\n",
       "    }\n",
       "</style>\n",
       "<table border=\"1\" class=\"dataframe\">\n",
       "  <thead>\n",
       "    <tr style=\"text-align: right;\">\n",
       "      <th></th>\n",
       "      <th>Judul</th>\n",
       "      <th>Harga</th>\n",
       "      <th>Penulis</th>\n",
       "      <th>Deskripsi</th>\n",
       "    </tr>\n",
       "  </thead>\n",
       "  <tbody>\n",
       "    <tr>\n",
       "      <th>0</th>\n",
       "      <td>17 Tahun Itu Bikin Pusing (Soft Cover)</td>\n",
       "      <td>Rp48,750</td>\n",
       "      <td>Maya Lestari Gf</td>\n",
       "      <td>Amanda Rusli adalah nama lengkapnya. Tapi, pan...</td>\n",
       "    </tr>\n",
       "    <tr>\n",
       "      <th>1</th>\n",
       "      <td>3 Tahun</td>\n",
       "      <td>Rp33,000</td>\n",
       "      <td>Anton Chekhov</td>\n",
       "      <td>Jatuh cinta kepada Yulia, Alexei tak mau lama-...</td>\n",
       "    </tr>\n",
       "    <tr>\n",
       "      <th>2</th>\n",
       "      <td>A Wrinkle In Time</td>\n",
       "      <td>Rp51,750</td>\n",
       "      <td>Madeleine L'Engle</td>\n",
       "      <td>Bertekad menemukan sang ayah-seorang ilmuwan y...</td>\n",
       "    </tr>\n",
       "    <tr>\n",
       "      <th>3</th>\n",
       "      <td>Adorable Brother</td>\n",
       "      <td>Rp66,750</td>\n",
       "      <td>Agustin Handayani</td>\n",
       "      <td>Aurora Putri memutuskan pindah dan tinggal ber...</td>\n",
       "    </tr>\n",
       "    <tr>\n",
       "      <th>4</th>\n",
       "      <td>Agnosia</td>\n",
       "      <td>Rp33,750</td>\n",
       "      <td>Ibrahim P</td>\n",
       "      <td>Lily menderita agnosia sehingga membuatnya tak...</td>\n",
       "    </tr>\n",
       "    <tr>\n",
       "      <th>...</th>\n",
       "      <td>...</td>\n",
       "      <td>...</td>\n",
       "      <td>...</td>\n",
       "      <td>...</td>\n",
       "    </tr>\n",
       "    <tr>\n",
       "      <th>145</th>\n",
       "      <td>Toxic Relationship Free: Ketika Hubungan Merac...</td>\n",
       "      <td>Rp91,000</td>\n",
       "      <td>Christy MS</td>\n",
       "      <td>Tak mudah untuk menentukan apakah sebuah hubun...</td>\n",
       "    </tr>\n",
       "    <tr>\n",
       "      <th>146</th>\n",
       "      <td>Trapped By Desire</td>\n",
       "      <td>Rp66,750</td>\n",
       "      <td>Suyomin</td>\n",
       "      <td>Jika bukan karena desakan dari keluarganya yan...</td>\n",
       "    </tr>\n",
       "    <tr>\n",
       "      <th>147</th>\n",
       "      <td>Tujuh Puisi Cinta Sebelum Perpisahan\\n</td>\n",
       "      <td>Rp56,250</td>\n",
       "      <td>Maya Lestari Gf</td>\n",
       "      <td>Kinandari menerima Evan karena dia memercayai ...</td>\n",
       "    </tr>\n",
       "    <tr>\n",
       "      <th>148</th>\n",
       "      <td>Urban Thriller: Carmine\\n</td>\n",
       "      <td>Rp63,000</td>\n",
       "      <td>Ruwi Meita (Author)</td>\n",
       "      <td>Rasa sakit itu seperti hantu.\\nSemu.\\nTidak ny...</td>\n",
       "    </tr>\n",
       "    <tr>\n",
       "      <th>149</th>\n",
       "      <td>Urban Thriller: VE\\n</td>\n",
       "      <td>Rp44,250</td>\n",
       "      <td>Vinca Callista (Author)</td>\n",
       "      <td>â€œBapak bilang,\\nperempuan itu kodratnya di b...</td>\n",
       "    </tr>\n",
       "  </tbody>\n",
       "</table>\n",
       "<p>150 rows × 4 columns</p>\n",
       "</div>"
      ],
      "text/plain": [
       "                                                 Judul     Harga   \n",
       "0               17 Tahun Itu Bikin Pusing (Soft Cover)  Rp48,750  \\\n",
       "1                                              3 Tahun  Rp33,000   \n",
       "2                                    A Wrinkle In Time  Rp51,750   \n",
       "3                                     Adorable Brother  Rp66,750   \n",
       "4                                              Agnosia  Rp33,750   \n",
       "..                                                 ...       ...   \n",
       "145  Toxic Relationship Free: Ketika Hubungan Merac...  Rp91,000   \n",
       "146                                  Trapped By Desire  Rp66,750   \n",
       "147             Tujuh Puisi Cinta Sebelum Perpisahan\\n  Rp56,250   \n",
       "148                          Urban Thriller: Carmine\\n  Rp63,000   \n",
       "149                               Urban Thriller: VE\\n  Rp44,250   \n",
       "\n",
       "                      Penulis   \n",
       "0             Maya Lestari Gf  \\\n",
       "1               Anton Chekhov   \n",
       "2           Madeleine L'Engle   \n",
       "3           Agustin Handayani   \n",
       "4                   Ibrahim P   \n",
       "..                        ...   \n",
       "145                Christy MS   \n",
       "146                   Suyomin   \n",
       "147           Maya Lestari Gf   \n",
       "148       Ruwi Meita (Author)   \n",
       "149   Vinca Callista (Author)   \n",
       "\n",
       "                                             Deskripsi  \n",
       "0    Amanda Rusli adalah nama lengkapnya. Tapi, pan...  \n",
       "1    Jatuh cinta kepada Yulia, Alexei tak mau lama-...  \n",
       "2    Bertekad menemukan sang ayah-seorang ilmuwan y...  \n",
       "3    Aurora Putri memutuskan pindah dan tinggal ber...  \n",
       "4    Lily menderita agnosia sehingga membuatnya tak...  \n",
       "..                                                 ...  \n",
       "145  Tak mudah untuk menentukan apakah sebuah hubun...  \n",
       "146  Jika bukan karena desakan dari keluarganya yan...  \n",
       "147  Kinandari menerima Evan karena dia memercayai ...  \n",
       "148  Rasa sakit itu seperti hantu.\\nSemu.\\nTidak ny...  \n",
       "149  â€œBapak bilang,\\nperempuan itu kodratnya di b...  \n",
       "\n",
       "[150 rows x 4 columns]"
      ]
     },
     "execution_count": 70,
     "metadata": {},
     "output_type": "execute_result"
    }
   ],
   "source": [
    "pd.DataFrame(data)"
   ]
  },
  {
   "cell_type": "code",
   "execution_count": 71,
   "id": "6a733188",
   "metadata": {},
   "outputs": [],
   "source": [
    "df = pd.DataFrame(data)"
   ]
  },
  {
   "cell_type": "code",
   "execution_count": 72,
   "id": "83222502",
   "metadata": {},
   "outputs": [],
   "source": [
    "df.to_excel(r'C:\\Users\\kevin\\Documents\\Vira\\Kuliah_Books10Page.xlsx')"
   ]
  }
 ],
 "metadata": {
  "kernelspec": {
   "display_name": "Python 3 (ipykernel)",
   "language": "python",
   "name": "python3"
  },
  "language_info": {
   "codemirror_mode": {
    "name": "ipython",
    "version": 3
   },
   "file_extension": ".py",
   "mimetype": "text/x-python",
   "name": "python",
   "nbconvert_exporter": "python",
   "pygments_lexer": "ipython3",
   "version": "3.11.0"
  }
 },
 "nbformat": 4,
 "nbformat_minor": 5
}
